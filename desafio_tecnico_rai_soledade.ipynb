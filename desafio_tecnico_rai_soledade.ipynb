{
  "nbformat": 4,
  "nbformat_minor": 0,
  "metadata": {
    "colab": {
      "name": "desafio_tecnico_rai_soledade.ipynb",
      "provenance": [],
      "include_colab_link": true
    },
    "kernelspec": {
      "name": "python3",
      "display_name": "Python 3"
    }
  },
  "cells": [
    {
      "cell_type": "markdown",
      "metadata": {
        "id": "view-in-github",
        "colab_type": "text"
      },
      "source": [
        "<a href=\"https://colab.research.google.com/github/raisantos/desafio-tecnico/blob/master/desafio_tecnico_rai_soledade.ipynb\" target=\"_parent\"><img src=\"https://colab.research.google.com/assets/colab-badge.svg\" alt=\"Open In Colab\"/></a>"
      ]
    },
    {
      "cell_type": "markdown",
      "metadata": {
        "id": "Jo8JpjFNTETi",
        "colab_type": "text"
      },
      "source": [
        "**Importação das Bibliotecas utilizadas**\n",
        "\n",
        "\n"
      ]
    },
    {
      "cell_type": "code",
      "metadata": {
        "id": "1yicLD0NKDsy",
        "colab_type": "code",
        "outputId": "19c3aa8a-1540-493f-adbd-b301e0d57837",
        "colab": {
          "base_uri": "https://localhost:8080/",
          "height": 34
        }
      },
      "source": [
        "import pandas as pd\n",
        "import matplotlib.pyplot as plt\n",
        "\n",
        "from google.colab import drive\n",
        "drive.mount('/content/gdrive')\n",
        "root_path = 'gdrive/My Drive/Colab Notebooks/'"
      ],
      "execution_count": 18,
      "outputs": [
        {
          "output_type": "stream",
          "text": [
            "Drive already mounted at /content/gdrive; to attempt to forcibly remount, call drive.mount(\"/content/gdrive\", force_remount=True).\n"
          ],
          "name": "stdout"
        }
      ]
    },
    {
      "cell_type": "markdown",
      "metadata": {
        "id": "HUQXZYVXTeTG",
        "colab_type": "text"
      },
      "source": [
        "**Leitura da primeira aba da planilha**"
      ]
    },
    {
      "cell_type": "code",
      "metadata": {
        "id": "YWo5_zvFKVic",
        "colab_type": "code",
        "outputId": "d0ccf225-ae75-44ba-990f-56f95af1c29d",
        "colab": {
          "base_uri": "https://localhost:8080/",
          "height": 111
        }
      },
      "source": [
        "aba1 = pd.read_excel(root_path+'dados.xlsx', sheet_name=0)\n",
        "aba1"
      ],
      "execution_count": 19,
      "outputs": [
        {
          "output_type": "execute_result",
          "data": {
            "text/html": [
              "<div>\n",
              "<style scoped>\n",
              "    .dataframe tbody tr th:only-of-type {\n",
              "        vertical-align: middle;\n",
              "    }\n",
              "\n",
              "    .dataframe tbody tr th {\n",
              "        vertical-align: top;\n",
              "    }\n",
              "\n",
              "    .dataframe thead th {\n",
              "        text-align: right;\n",
              "    }\n",
              "</style>\n",
              "<table border=\"1\" class=\"dataframe\">\n",
              "  <thead>\n",
              "    <tr style=\"text-align: right;\">\n",
              "      <th></th>\n",
              "      <th>Unnamed: 0</th>\n",
              "      <th>Mes_1</th>\n",
              "      <th>Mes_2</th>\n",
              "      <th>Mes_3</th>\n",
              "      <th>Mes_4</th>\n",
              "      <th>Mes_5</th>\n",
              "      <th>Mes_6</th>\n",
              "      <th>Mes_7</th>\n",
              "      <th>Mes_8</th>\n",
              "      <th>Mes_9</th>\n",
              "      <th>Mes_10</th>\n",
              "      <th>Mes_11</th>\n",
              "      <th>Mes_12</th>\n",
              "    </tr>\n",
              "  </thead>\n",
              "  <tbody>\n",
              "    <tr>\n",
              "      <th>0</th>\n",
              "      <td>NaN</td>\n",
              "      <td>janeiro</td>\n",
              "      <td>fevereiro</td>\n",
              "      <td>março</td>\n",
              "      <td>abril</td>\n",
              "      <td>maio</td>\n",
              "      <td>junho</td>\n",
              "      <td>julho</td>\n",
              "      <td>agosto</td>\n",
              "      <td>setembro</td>\n",
              "      <td>outubro</td>\n",
              "      <td>novembro</td>\n",
              "      <td>dezembro</td>\n",
              "    </tr>\n",
              "    <tr>\n",
              "      <th>1</th>\n",
              "      <td>Realizado</td>\n",
              "      <td>240</td>\n",
              "      <td>280</td>\n",
              "      <td>200</td>\n",
              "      <td>310</td>\n",
              "      <td>230</td>\n",
              "      <td>213</td>\n",
              "      <td>239</td>\n",
              "      <td>210</td>\n",
              "      <td>210</td>\n",
              "      <td>210</td>\n",
              "      <td>232</td>\n",
              "      <td>213</td>\n",
              "    </tr>\n",
              "  </tbody>\n",
              "</table>\n",
              "</div>"
            ],
            "text/plain": [
              "  Unnamed: 0    Mes_1      Mes_2  Mes_3  ...     Mes_9   Mes_10    Mes_11    Mes_12\n",
              "0        NaN  janeiro  fevereiro  março  ...  setembro  outubro  novembro  dezembro\n",
              "1  Realizado      240        280    200  ...       210      210       232       213\n",
              "\n",
              "[2 rows x 13 columns]"
            ]
          },
          "metadata": {
            "tags": []
          },
          "execution_count": 19
        }
      ]
    },
    {
      "cell_type": "markdown",
      "metadata": {
        "id": "LDYzY69UTlH0",
        "colab_type": "text"
      },
      "source": [
        "**Leitura da segunda aba da planilha**"
      ]
    },
    {
      "cell_type": "code",
      "metadata": {
        "id": "fg5rzyPZskMO",
        "colab_type": "code",
        "outputId": "4ea32a70-fc93-4f35-b816-518fa91990f5",
        "colab": {
          "base_uri": "https://localhost:8080/",
          "height": 421
        }
      },
      "source": [
        "aba2 = pd.read_excel(root_path+'dados.xlsx', sheet_name=1)\n",
        "aba2"
      ],
      "execution_count": 20,
      "outputs": [
        {
          "output_type": "execute_result",
          "data": {
            "text/html": [
              "<div>\n",
              "<style scoped>\n",
              "    .dataframe tbody tr th:only-of-type {\n",
              "        vertical-align: middle;\n",
              "    }\n",
              "\n",
              "    .dataframe tbody tr th {\n",
              "        vertical-align: top;\n",
              "    }\n",
              "\n",
              "    .dataframe thead th {\n",
              "        text-align: right;\n",
              "    }\n",
              "</style>\n",
              "<table border=\"1\" class=\"dataframe\">\n",
              "  <thead>\n",
              "    <tr style=\"text-align: right;\">\n",
              "      <th></th>\n",
              "      <th>mês</th>\n",
              "      <th>orcado</th>\n",
              "    </tr>\n",
              "  </thead>\n",
              "  <tbody>\n",
              "    <tr>\n",
              "      <th>0</th>\n",
              "      <td>janeiro</td>\n",
              "      <td>330</td>\n",
              "    </tr>\n",
              "    <tr>\n",
              "      <th>1</th>\n",
              "      <td>fevereiro</td>\n",
              "      <td>290</td>\n",
              "    </tr>\n",
              "    <tr>\n",
              "      <th>2</th>\n",
              "      <td>março</td>\n",
              "      <td>230</td>\n",
              "    </tr>\n",
              "    <tr>\n",
              "      <th>3</th>\n",
              "      <td>abril</td>\n",
              "      <td>321</td>\n",
              "    </tr>\n",
              "    <tr>\n",
              "      <th>4</th>\n",
              "      <td>maio</td>\n",
              "      <td>283</td>\n",
              "    </tr>\n",
              "    <tr>\n",
              "      <th>5</th>\n",
              "      <td>junho</td>\n",
              "      <td>291</td>\n",
              "    </tr>\n",
              "    <tr>\n",
              "      <th>6</th>\n",
              "      <td>julho</td>\n",
              "      <td>193</td>\n",
              "    </tr>\n",
              "    <tr>\n",
              "      <th>7</th>\n",
              "      <td>agosto</td>\n",
              "      <td>259</td>\n",
              "    </tr>\n",
              "    <tr>\n",
              "      <th>8</th>\n",
              "      <td>setembro</td>\n",
              "      <td>289</td>\n",
              "    </tr>\n",
              "    <tr>\n",
              "      <th>9</th>\n",
              "      <td>outubro</td>\n",
              "      <td>230</td>\n",
              "    </tr>\n",
              "    <tr>\n",
              "      <th>10</th>\n",
              "      <td>novembro</td>\n",
              "      <td>434</td>\n",
              "    </tr>\n",
              "    <tr>\n",
              "      <th>11</th>\n",
              "      <td>dezembro</td>\n",
              "      <td>421</td>\n",
              "    </tr>\n",
              "  </tbody>\n",
              "</table>\n",
              "</div>"
            ],
            "text/plain": [
              "          mês  orcado\n",
              "0     janeiro     330\n",
              "1   fevereiro     290\n",
              "2       março     230\n",
              "3       abril     321\n",
              "4        maio     283\n",
              "5       junho     291\n",
              "6       julho     193\n",
              "7      agosto     259\n",
              "8    setembro     289\n",
              "9     outubro     230\n",
              "10   novembro     434\n",
              "11   dezembro     421"
            ]
          },
          "metadata": {
            "tags": []
          },
          "execution_count": 20
        }
      ]
    },
    {
      "cell_type": "markdown",
      "metadata": {
        "id": "3cMIjNwKUPJi",
        "colab_type": "text"
      },
      "source": [
        "**Obtendo lista dos valores de REALIZADO da primeira aba do arquivo**"
      ]
    },
    {
      "cell_type": "code",
      "metadata": {
        "id": "HmLXV0v3qabv",
        "colab_type": "code",
        "outputId": "a8c7accf-dcc3-4911-cfac-5b6f0a9b812d",
        "colab": {
          "base_uri": "https://localhost:8080/",
          "height": 51
        }
      },
      "source": [
        "realizado = aba1.iloc[1:].values[0][1:]\n",
        "realizado"
      ],
      "execution_count": 21,
      "outputs": [
        {
          "output_type": "execute_result",
          "data": {
            "text/plain": [
              "array([240, 280, 200, 310, 230, 213, 239, 210, 210, 210, 232, 213],\n",
              "      dtype=object)"
            ]
          },
          "metadata": {
            "tags": []
          },
          "execution_count": 21
        }
      ]
    },
    {
      "cell_type": "markdown",
      "metadata": {
        "id": "QTnCa06UUimu",
        "colab_type": "text"
      },
      "source": [
        "**Fazendo merge das abas. Adicionando coluna REALIZADO com os valores obtidos anteriormente na aba1 no dataframe da aba2**"
      ]
    },
    {
      "cell_type": "code",
      "metadata": {
        "id": "mLpcF80-sTRo",
        "colab_type": "code",
        "outputId": "ffd2c366-5144-4cf5-979a-4e623bbdf93e",
        "colab": {
          "base_uri": "https://localhost:8080/",
          "height": 421
        }
      },
      "source": [
        "aba2['realizado'] = realizado\n",
        "aba2"
      ],
      "execution_count": 22,
      "outputs": [
        {
          "output_type": "execute_result",
          "data": {
            "text/html": [
              "<div>\n",
              "<style scoped>\n",
              "    .dataframe tbody tr th:only-of-type {\n",
              "        vertical-align: middle;\n",
              "    }\n",
              "\n",
              "    .dataframe tbody tr th {\n",
              "        vertical-align: top;\n",
              "    }\n",
              "\n",
              "    .dataframe thead th {\n",
              "        text-align: right;\n",
              "    }\n",
              "</style>\n",
              "<table border=\"1\" class=\"dataframe\">\n",
              "  <thead>\n",
              "    <tr style=\"text-align: right;\">\n",
              "      <th></th>\n",
              "      <th>mês</th>\n",
              "      <th>orcado</th>\n",
              "      <th>realizado</th>\n",
              "    </tr>\n",
              "  </thead>\n",
              "  <tbody>\n",
              "    <tr>\n",
              "      <th>0</th>\n",
              "      <td>janeiro</td>\n",
              "      <td>330</td>\n",
              "      <td>240</td>\n",
              "    </tr>\n",
              "    <tr>\n",
              "      <th>1</th>\n",
              "      <td>fevereiro</td>\n",
              "      <td>290</td>\n",
              "      <td>280</td>\n",
              "    </tr>\n",
              "    <tr>\n",
              "      <th>2</th>\n",
              "      <td>março</td>\n",
              "      <td>230</td>\n",
              "      <td>200</td>\n",
              "    </tr>\n",
              "    <tr>\n",
              "      <th>3</th>\n",
              "      <td>abril</td>\n",
              "      <td>321</td>\n",
              "      <td>310</td>\n",
              "    </tr>\n",
              "    <tr>\n",
              "      <th>4</th>\n",
              "      <td>maio</td>\n",
              "      <td>283</td>\n",
              "      <td>230</td>\n",
              "    </tr>\n",
              "    <tr>\n",
              "      <th>5</th>\n",
              "      <td>junho</td>\n",
              "      <td>291</td>\n",
              "      <td>213</td>\n",
              "    </tr>\n",
              "    <tr>\n",
              "      <th>6</th>\n",
              "      <td>julho</td>\n",
              "      <td>193</td>\n",
              "      <td>239</td>\n",
              "    </tr>\n",
              "    <tr>\n",
              "      <th>7</th>\n",
              "      <td>agosto</td>\n",
              "      <td>259</td>\n",
              "      <td>210</td>\n",
              "    </tr>\n",
              "    <tr>\n",
              "      <th>8</th>\n",
              "      <td>setembro</td>\n",
              "      <td>289</td>\n",
              "      <td>210</td>\n",
              "    </tr>\n",
              "    <tr>\n",
              "      <th>9</th>\n",
              "      <td>outubro</td>\n",
              "      <td>230</td>\n",
              "      <td>210</td>\n",
              "    </tr>\n",
              "    <tr>\n",
              "      <th>10</th>\n",
              "      <td>novembro</td>\n",
              "      <td>434</td>\n",
              "      <td>232</td>\n",
              "    </tr>\n",
              "    <tr>\n",
              "      <th>11</th>\n",
              "      <td>dezembro</td>\n",
              "      <td>421</td>\n",
              "      <td>213</td>\n",
              "    </tr>\n",
              "  </tbody>\n",
              "</table>\n",
              "</div>"
            ],
            "text/plain": [
              "          mês  orcado realizado\n",
              "0     janeiro     330       240\n",
              "1   fevereiro     290       280\n",
              "2       março     230       200\n",
              "3       abril     321       310\n",
              "4        maio     283       230\n",
              "5       junho     291       213\n",
              "6       julho     193       239\n",
              "7      agosto     259       210\n",
              "8    setembro     289       210\n",
              "9     outubro     230       210\n",
              "10   novembro     434       232\n",
              "11   dezembro     421       213"
            ]
          },
          "metadata": {
            "tags": []
          },
          "execution_count": 22
        }
      ]
    },
    {
      "cell_type": "markdown",
      "metadata": {
        "id": "0suWq3mZV06q",
        "colab_type": "text"
      },
      "source": [
        "**Adicionando coluna DIFF, com o cálculo da diferença entre as colunas ORÇADO E REALIZADO**"
      ]
    },
    {
      "cell_type": "code",
      "metadata": {
        "id": "veXcT5mVtJP8",
        "colab_type": "code",
        "outputId": "8fe06116-f9f3-4f4c-df4c-ed16deffcacc",
        "colab": {
          "base_uri": "https://localhost:8080/",
          "height": 421
        }
      },
      "source": [
        "aba2['diff'] = aba2['orcado'] - aba2['realizado']\n",
        "aba2"
      ],
      "execution_count": 23,
      "outputs": [
        {
          "output_type": "execute_result",
          "data": {
            "text/html": [
              "<div>\n",
              "<style scoped>\n",
              "    .dataframe tbody tr th:only-of-type {\n",
              "        vertical-align: middle;\n",
              "    }\n",
              "\n",
              "    .dataframe tbody tr th {\n",
              "        vertical-align: top;\n",
              "    }\n",
              "\n",
              "    .dataframe thead th {\n",
              "        text-align: right;\n",
              "    }\n",
              "</style>\n",
              "<table border=\"1\" class=\"dataframe\">\n",
              "  <thead>\n",
              "    <tr style=\"text-align: right;\">\n",
              "      <th></th>\n",
              "      <th>mês</th>\n",
              "      <th>orcado</th>\n",
              "      <th>realizado</th>\n",
              "      <th>diff</th>\n",
              "    </tr>\n",
              "  </thead>\n",
              "  <tbody>\n",
              "    <tr>\n",
              "      <th>0</th>\n",
              "      <td>janeiro</td>\n",
              "      <td>330</td>\n",
              "      <td>240</td>\n",
              "      <td>90</td>\n",
              "    </tr>\n",
              "    <tr>\n",
              "      <th>1</th>\n",
              "      <td>fevereiro</td>\n",
              "      <td>290</td>\n",
              "      <td>280</td>\n",
              "      <td>10</td>\n",
              "    </tr>\n",
              "    <tr>\n",
              "      <th>2</th>\n",
              "      <td>março</td>\n",
              "      <td>230</td>\n",
              "      <td>200</td>\n",
              "      <td>30</td>\n",
              "    </tr>\n",
              "    <tr>\n",
              "      <th>3</th>\n",
              "      <td>abril</td>\n",
              "      <td>321</td>\n",
              "      <td>310</td>\n",
              "      <td>11</td>\n",
              "    </tr>\n",
              "    <tr>\n",
              "      <th>4</th>\n",
              "      <td>maio</td>\n",
              "      <td>283</td>\n",
              "      <td>230</td>\n",
              "      <td>53</td>\n",
              "    </tr>\n",
              "    <tr>\n",
              "      <th>5</th>\n",
              "      <td>junho</td>\n",
              "      <td>291</td>\n",
              "      <td>213</td>\n",
              "      <td>78</td>\n",
              "    </tr>\n",
              "    <tr>\n",
              "      <th>6</th>\n",
              "      <td>julho</td>\n",
              "      <td>193</td>\n",
              "      <td>239</td>\n",
              "      <td>-46</td>\n",
              "    </tr>\n",
              "    <tr>\n",
              "      <th>7</th>\n",
              "      <td>agosto</td>\n",
              "      <td>259</td>\n",
              "      <td>210</td>\n",
              "      <td>49</td>\n",
              "    </tr>\n",
              "    <tr>\n",
              "      <th>8</th>\n",
              "      <td>setembro</td>\n",
              "      <td>289</td>\n",
              "      <td>210</td>\n",
              "      <td>79</td>\n",
              "    </tr>\n",
              "    <tr>\n",
              "      <th>9</th>\n",
              "      <td>outubro</td>\n",
              "      <td>230</td>\n",
              "      <td>210</td>\n",
              "      <td>20</td>\n",
              "    </tr>\n",
              "    <tr>\n",
              "      <th>10</th>\n",
              "      <td>novembro</td>\n",
              "      <td>434</td>\n",
              "      <td>232</td>\n",
              "      <td>202</td>\n",
              "    </tr>\n",
              "    <tr>\n",
              "      <th>11</th>\n",
              "      <td>dezembro</td>\n",
              "      <td>421</td>\n",
              "      <td>213</td>\n",
              "      <td>208</td>\n",
              "    </tr>\n",
              "  </tbody>\n",
              "</table>\n",
              "</div>"
            ],
            "text/plain": [
              "          mês  orcado realizado diff\n",
              "0     janeiro     330       240   90\n",
              "1   fevereiro     290       280   10\n",
              "2       março     230       200   30\n",
              "3       abril     321       310   11\n",
              "4        maio     283       230   53\n",
              "5       junho     291       213   78\n",
              "6       julho     193       239  -46\n",
              "7      agosto     259       210   49\n",
              "8    setembro     289       210   79\n",
              "9     outubro     230       210   20\n",
              "10   novembro     434       232  202\n",
              "11   dezembro     421       213  208"
            ]
          },
          "metadata": {
            "tags": []
          },
          "execution_count": 23
        }
      ]
    },
    {
      "cell_type": "markdown",
      "metadata": {
        "id": "hFK1TlzPalo8",
        "colab_type": "text"
      },
      "source": [
        "**Salvando arquivo .CSV**"
      ]
    },
    {
      "cell_type": "code",
      "metadata": {
        "id": "kh0J0Orladjh",
        "colab_type": "code",
        "colab": {}
      },
      "source": [
        "aba2.to_csv(root_path + 'desafio-saida.csv', index=False)"
      ],
      "execution_count": 0,
      "outputs": []
    },
    {
      "cell_type": "markdown",
      "metadata": {
        "id": "2DukMxRNWWnw",
        "colab_type": "text"
      },
      "source": [
        "**Obtendo valores das colunas do dataframe aba2 para montagem do gráfico**"
      ]
    },
    {
      "cell_type": "code",
      "metadata": {
        "id": "_IekGsYJtWJ0",
        "colab_type": "code",
        "outputId": "80e92df0-560d-46d2-fa00-e40a42ac42ab",
        "colab": {
          "base_uri": "https://localhost:8080/",
          "height": 68
        }
      },
      "source": [
        "meses = aba2['mês'].values\n",
        "meses"
      ],
      "execution_count": 25,
      "outputs": [
        {
          "output_type": "execute_result",
          "data": {
            "text/plain": [
              "array(['janeiro', 'fevereiro', 'março', 'abril', 'maio', 'junho', 'julho',\n",
              "       'agosto', 'setembro', 'outubro', 'novembro', 'dezembro'],\n",
              "      dtype=object)"
            ]
          },
          "metadata": {
            "tags": []
          },
          "execution_count": 25
        }
      ]
    },
    {
      "cell_type": "code",
      "metadata": {
        "id": "VgZwkSUPteIb",
        "colab_type": "code",
        "outputId": "558a5dcb-cdc4-4d9e-9233-bac414608774",
        "colab": {
          "base_uri": "https://localhost:8080/",
          "height": 51
        }
      },
      "source": [
        "realizados = aba2['realizado'].values\n",
        "realizados"
      ],
      "execution_count": 26,
      "outputs": [
        {
          "output_type": "execute_result",
          "data": {
            "text/plain": [
              "array([240, 280, 200, 310, 230, 213, 239, 210, 210, 210, 232, 213],\n",
              "      dtype=object)"
            ]
          },
          "metadata": {
            "tags": []
          },
          "execution_count": 26
        }
      ]
    },
    {
      "cell_type": "code",
      "metadata": {
        "id": "4499WuTGtwrh",
        "colab_type": "code",
        "outputId": "3583a74e-72fc-4b7c-f80d-64facbbb9a1a",
        "colab": {
          "base_uri": "https://localhost:8080/",
          "height": 34
        }
      },
      "source": [
        "diff = aba2['diff'].values\n",
        "diff"
      ],
      "execution_count": 27,
      "outputs": [
        {
          "output_type": "execute_result",
          "data": {
            "text/plain": [
              "array([90, 10, 30, 11, 53, 78, -46, 49, 79, 20, 202, 208], dtype=object)"
            ]
          },
          "metadata": {
            "tags": []
          },
          "execution_count": 27
        }
      ]
    },
    {
      "cell_type": "markdown",
      "metadata": {
        "id": "tJIlDpd6XLut",
        "colab_type": "text"
      },
      "source": [
        "**Montagem do gráfico relacionando os meses com \"orçado x realizado\"**"
      ]
    },
    {
      "cell_type": "code",
      "metadata": {
        "id": "uEA2JsdquBGe",
        "colab_type": "code",
        "outputId": "3052a001-453f-41e8-a11c-44602a0be0c1",
        "colab": {
          "base_uri": "https://localhost:8080/",
          "height": 458
        }
      },
      "source": [
        "plt.figure(figsize=(15,7))\n",
        "plt.bar(meses, diff, color='blue', bottom = realizados)\n",
        "plt.bar(meses, realizados, color='orange')\n",
        "\n",
        "plt.xlabel('Mês')\n",
        "plt.ylabel('$')\n",
        "plt.title('Gráfico Orçamento')\n",
        "plt.legend(('Orçado', 'Realizado'))\n",
        "plt.savefig(root_path + 'desafio-grafico.png')"
      ],
      "execution_count": 28,
      "outputs": [
        {
          "output_type": "display_data",
          "data": {
            "image/png": "[encoded data removed]",
            "text/plain": [
              "<Figure size 1080x504 with 1 Axes>"
            ]
          },
          "metadata": {
            "tags": []
          }
        }
      ]
    }
  ]
}